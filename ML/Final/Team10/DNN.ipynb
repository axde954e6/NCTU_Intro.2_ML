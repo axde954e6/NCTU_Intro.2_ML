{
 "cells": [
  {
   "cell_type": "code",
   "execution_count": 1,
   "metadata": {},
   "outputs": [],
   "source": [
    "import numpy as np\n",
    "import json\n",
    "import os\n",
    "import pandas as pd\n",
    "import numpy as np\n",
    "from sklearn.model_selection import train_test_split\n",
    "import sys\n",
    "import random\n",
    "import keras as K\n",
    "import tensorflow as tf\n",
    "from keras.utils import to_categorical\n",
    "from keras.callbacks import TensorBoard\n",
    "from keras.callbacks import EarlyStopping\n",
    "from keras.callbacks import ModelCheckpoint\n",
    "from keras.callbacks import ReduceLROnPlateau\n",
    "from keras.callbacks import CSVLogger\n",
    "from keras.callbacks import TerminateOnNaN\n",
    "from keras.models import load_model\n",
    "from sklearn.metrics import accuracy_score\n",
    "from sklearn.metrics import confusion_matrix\n",
    "from sklearn.metrics import precision_score\n",
    "from sklearn.metrics import classification_report\n",
    "from mlxtend.plotting import plot_confusion_matrix\n",
    "from sklearn.metrics import recall_score\n",
    "from sklearn.utils import shuffle\n",
    "from sklearn.metrics import mean_absolute_error\n",
    "import matplotlib.pyplot as plt\n",
    "from matplotlib.colors import ListedColormap\n",
    "import pydotplus"
   ]
  },
  {
   "cell_type": "code",
   "execution_count": 2,
   "metadata": {},
   "outputs": [],
   "source": [
    "data=pd.read_csv('ML_dataset.csv',sep=',')"
   ]
  },
  {
   "cell_type": "code",
   "execution_count": 3,
   "metadata": {},
   "outputs": [],
   "source": [
    "label=data['label']\n",
    "feature=data.drop(['label'],axis=1)\n",
    "label=np.array(label)\n",
    "label = to_categorical(label, 4)\n",
    "feature=np.array(feature)\n",
    "feature, label = shuffle(feature, label, random_state=0)\n",
    "feature_train,feature_test,label_train,label_test=train_test_split(feature,label , test_size=0.3)"
   ]
  },
  {
   "cell_type": "code",
   "execution_count": 4,
   "metadata": {},
   "outputs": [],
   "source": [
    "def defineModel():\n",
    "    \n",
    "    init = K.initializers.glorot_uniform(seed=1)\n",
    "    model = K.models.Sequential()\n",
    "    model.add(K.layers.Dense(units=16, input_dim=8,kernel_initializer=init, activation='relu'))\n",
    "    model.add(K.layers.Dense(units=16, kernel_initializer=init, activation='relu'))\n",
    "    #model.add(K.layers.Dense(units=4, kernel_initializer=init, activation='relu'))\n",
    "    model.add(K.layers.Dense(units=4, kernel_initializer=init, activation='sigmoid'))\n",
    "    model.compile(loss='categorical_crossentropy',optimizer='rmsprop', metrics=['accuracy'])\n",
    "    model.summary()\n",
    "    return model"
   ]
  },
  {
   "cell_type": "code",
   "execution_count": 5,
   "metadata": {},
   "outputs": [
    {
     "name": "stdout",
     "output_type": "stream",
     "text": [
      "Model: \"sequential\"\n",
      "_________________________________________________________________\n",
      "Layer (type)                 Output Shape              Param #   \n",
      "=================================================================\n",
      "dense (Dense)                (None, 16)                144       \n",
      "_________________________________________________________________\n",
      "dense_1 (Dense)              (None, 16)                272       \n",
      "_________________________________________________________________\n",
      "dense_2 (Dense)              (None, 4)                 68        \n",
      "=================================================================\n",
      "Total params: 484\n",
      "Trainable params: 484\n",
      "Non-trainable params: 0\n",
      "_________________________________________________________________\n"
     ]
    }
   ],
   "source": [
    "model = defineModel()"
   ]
  },
  {
   "cell_type": "code",
   "execution_count": 6,
   "metadata": {},
   "outputs": [
    {
     "name": "stdout",
     "output_type": "stream",
     "text": [
      "Epoch 1/50\n",
      "157/157 - 0s - loss: 1.3654 - accuracy: 0.2994 - val_loss: 1.3535 - val_accuracy: 0.4118\n",
      "Epoch 2/50\n",
      "157/157 - 0s - loss: 1.3267 - accuracy: 0.4204 - val_loss: 1.3316 - val_accuracy: 0.5000\n",
      "Epoch 3/50\n",
      "157/157 - 0s - loss: 1.2811 - accuracy: 0.4459 - val_loss: 1.3095 - val_accuracy: 0.5147\n",
      "Epoch 4/50\n",
      "157/157 - 0s - loss: 1.2224 - accuracy: 0.4713 - val_loss: 1.2788 - val_accuracy: 0.5000\n",
      "Epoch 5/50\n",
      "157/157 - 0s - loss: 1.1531 - accuracy: 0.5096 - val_loss: 1.2451 - val_accuracy: 0.5000\n",
      "Epoch 6/50\n",
      "157/157 - 0s - loss: 1.0795 - accuracy: 0.5414 - val_loss: 1.2209 - val_accuracy: 0.5147\n",
      "Epoch 7/50\n",
      "157/157 - 0s - loss: 1.0110 - accuracy: 0.5669 - val_loss: 1.2073 - val_accuracy: 0.5147\n",
      "Epoch 8/50\n",
      "157/157 - 0s - loss: 0.9595 - accuracy: 0.5796 - val_loss: 1.2120 - val_accuracy: 0.5147\n",
      "Epoch 9/50\n",
      "157/157 - 0s - loss: 0.9171 - accuracy: 0.5669 - val_loss: 1.2160 - val_accuracy: 0.5294\n",
      "Epoch 10/50\n",
      "157/157 - 0s - loss: 0.8803 - accuracy: 0.5924 - val_loss: 1.2303 - val_accuracy: 0.5294\n",
      "Epoch 11/50\n",
      "157/157 - 0s - loss: 0.8435 - accuracy: 0.5924 - val_loss: 1.2217 - val_accuracy: 0.5441\n",
      "Epoch 12/50\n",
      "157/157 - 0s - loss: 0.8183 - accuracy: 0.6306 - val_loss: 1.2561 - val_accuracy: 0.5735\n",
      "Epoch 13/50\n",
      "157/157 - 0s - loss: 0.7904 - accuracy: 0.6433 - val_loss: 1.2611 - val_accuracy: 0.5735\n",
      "Epoch 14/50\n",
      "157/157 - 0s - loss: 0.7661 - accuracy: 0.6815 - val_loss: 1.2691 - val_accuracy: 0.5882\n",
      "Epoch 15/50\n",
      "157/157 - 0s - loss: 0.7369 - accuracy: 0.6943 - val_loss: 1.2809 - val_accuracy: 0.5882\n",
      "Epoch 16/50\n",
      "157/157 - 0s - loss: 0.7161 - accuracy: 0.7134 - val_loss: 1.3102 - val_accuracy: 0.6176\n",
      "Epoch 17/50\n",
      "157/157 - 0s - loss: 0.6877 - accuracy: 0.7197 - val_loss: 1.3072 - val_accuracy: 0.6029\n",
      "Epoch 18/50\n",
      "157/157 - 0s - loss: 0.6673 - accuracy: 0.7325 - val_loss: 1.3358 - val_accuracy: 0.6324\n",
      "Epoch 19/50\n",
      "157/157 - 0s - loss: 0.6443 - accuracy: 0.7389 - val_loss: 1.3567 - val_accuracy: 0.6176\n",
      "Epoch 20/50\n",
      "157/157 - 0s - loss: 0.6261 - accuracy: 0.7580 - val_loss: 1.3656 - val_accuracy: 0.6324\n",
      "Epoch 21/50\n",
      "157/157 - 0s - loss: 0.6058 - accuracy: 0.7516 - val_loss: 1.3685 - val_accuracy: 0.6324\n",
      "Epoch 22/50\n",
      "157/157 - 0s - loss: 0.5866 - accuracy: 0.7707 - val_loss: 1.3935 - val_accuracy: 0.6471\n",
      "Epoch 23/50\n",
      "157/157 - 0s - loss: 0.5725 - accuracy: 0.8089 - val_loss: 1.3820 - val_accuracy: 0.6471\n",
      "Epoch 24/50\n",
      "157/157 - 0s - loss: 0.5490 - accuracy: 0.7834 - val_loss: 1.3946 - val_accuracy: 0.6765\n",
      "Epoch 25/50\n",
      "157/157 - 0s - loss: 0.5388 - accuracy: 0.8089 - val_loss: 1.3959 - val_accuracy: 0.6765\n",
      "Epoch 26/50\n",
      "157/157 - 0s - loss: 0.5160 - accuracy: 0.7962 - val_loss: 1.4444 - val_accuracy: 0.6765\n",
      "Epoch 27/50\n",
      "157/157 - 0s - loss: 0.5083 - accuracy: 0.7962 - val_loss: 1.4391 - val_accuracy: 0.6765\n",
      "Epoch 28/50\n",
      "157/157 - 0s - loss: 0.4960 - accuracy: 0.8089 - val_loss: 1.4484 - val_accuracy: 0.6912\n",
      "Epoch 29/50\n",
      "157/157 - 0s - loss: 0.4829 - accuracy: 0.8153 - val_loss: 1.4738 - val_accuracy: 0.6912\n",
      "Epoch 30/50\n",
      "157/157 - 0s - loss: 0.4631 - accuracy: 0.8280 - val_loss: 1.5070 - val_accuracy: 0.6912\n",
      "Epoch 31/50\n",
      "157/157 - 0s - loss: 0.4548 - accuracy: 0.8471 - val_loss: 1.4877 - val_accuracy: 0.6912\n",
      "Epoch 32/50\n",
      "157/157 - 0s - loss: 0.4363 - accuracy: 0.8535 - val_loss: 1.4754 - val_accuracy: 0.6912\n",
      "Epoch 33/50\n",
      "157/157 - 0s - loss: 0.4270 - accuracy: 0.8471 - val_loss: 1.5135 - val_accuracy: 0.6912\n",
      "Epoch 34/50\n",
      "157/157 - 0s - loss: 0.4147 - accuracy: 0.8535 - val_loss: 1.5012 - val_accuracy: 0.6912\n",
      "Epoch 35/50\n",
      "157/157 - 0s - loss: 0.4106 - accuracy: 0.8599 - val_loss: 1.5185 - val_accuracy: 0.6912\n",
      "Epoch 36/50\n",
      "157/157 - 0s - loss: 0.3981 - accuracy: 0.8535 - val_loss: 1.5367 - val_accuracy: 0.6912\n",
      "Epoch 37/50\n",
      "157/157 - 0s - loss: 0.3888 - accuracy: 0.8535 - val_loss: 1.5476 - val_accuracy: 0.6912\n",
      "Epoch 38/50\n",
      "157/157 - 0s - loss: 0.3758 - accuracy: 0.8535 - val_loss: 1.5759 - val_accuracy: 0.6912\n",
      "Epoch 39/50\n",
      "157/157 - 0s - loss: 0.3598 - accuracy: 0.8662 - val_loss: 1.5481 - val_accuracy: 0.6912\n",
      "Epoch 40/50\n",
      "157/157 - 0s - loss: 0.3641 - accuracy: 0.8662 - val_loss: 1.5883 - val_accuracy: 0.6912\n",
      "Epoch 41/50\n",
      "157/157 - 0s - loss: 0.3591 - accuracy: 0.8662 - val_loss: 1.5952 - val_accuracy: 0.6912\n",
      "Epoch 42/50\n",
      "157/157 - 0s - loss: 0.3492 - accuracy: 0.8854 - val_loss: 1.5769 - val_accuracy: 0.6912\n",
      "Epoch 43/50\n",
      "157/157 - 0s - loss: 0.3460 - accuracy: 0.8790 - val_loss: 1.6166 - val_accuracy: 0.6912\n",
      "Epoch 44/50\n",
      "157/157 - 0s - loss: 0.3350 - accuracy: 0.8790 - val_loss: 1.6323 - val_accuracy: 0.6912\n",
      "Epoch 45/50\n",
      "157/157 - 0s - loss: 0.3377 - accuracy: 0.8981 - val_loss: 1.6417 - val_accuracy: 0.7059\n",
      "Epoch 46/50\n",
      "157/157 - 0s - loss: 0.3308 - accuracy: 0.8790 - val_loss: 1.6477 - val_accuracy: 0.7206\n",
      "Epoch 47/50\n",
      "157/157 - 0s - loss: 0.3193 - accuracy: 0.8854 - val_loss: 1.6450 - val_accuracy: 0.7206\n",
      "Epoch 48/50\n",
      "157/157 - 0s - loss: 0.3150 - accuracy: 0.8854 - val_loss: 1.6618 - val_accuracy: 0.7206\n",
      "Epoch 49/50\n",
      "157/157 - 0s - loss: 0.3118 - accuracy: 0.8854 - val_loss: 1.6745 - val_accuracy: 0.7059\n",
      "Epoch 50/50\n",
      "157/157 - 0s - loss: 0.3006 - accuracy: 0.8981 - val_loss: 1.6913 - val_accuracy: 0.7059\n"
     ]
    }
   ],
   "source": [
    "#callbacks = [es, mc, rp, cl, tn]\n",
    "h = model.fit(feature_train, label_train, epochs=50,shuffle=True,batch_size=1, verbose=2, validation_split=0.3)"
   ]
  },
  {
   "cell_type": "code",
   "execution_count": 7,
   "metadata": {},
   "outputs": [
    {
     "name": "stdout",
     "output_type": "stream",
     "text": [
      "loss:  0.974406361579895  accuarcy:  0.7628865838050842\n"
     ]
    }
   ],
   "source": [
    "eval = model.evaluate(feature_test, label_test, verbose=0)\n",
    "print(\"loss: \",eval[0],\" accuarcy: \",eval[1])"
   ]
  },
  {
   "cell_type": "code",
   "execution_count": 8,
   "metadata": {},
   "outputs": [],
   "source": [
    "def arraytoval(matrix):\n",
    "    arr=[]\n",
    "    for it in matrix:\n",
    "        now_pre=0\n",
    "        for i in range(1,len(it)):\n",
    "            if it[i]>it[now_pre]:\n",
    "                now_pre=i\n",
    "        arr.append(now_pre)\n",
    "    return arr"
   ]
  },
  {
   "cell_type": "code",
   "execution_count": 9,
   "metadata": {},
   "outputs": [
    {
     "data": {
      "text/plain": [
       "<function matplotlib.pyplot.show(close=None, block=None)>"
      ]
     },
     "execution_count": 9,
     "metadata": {},
     "output_type": "execute_result"
    },
    {
     "data": {
      "image/png": "[encoded data removed]",
      "text/plain": [
       "<Figure size 432x288 with 2 Axes>"
      ]
     },
     "metadata": {
      "needs_background": "light"
     },
     "output_type": "display_data"
    }
   ],
   "source": [
    "predict = model.predict(feature_test)\n",
    "column_name=[0,1,2,3]\n",
    "l,p=arraytoval(label_test),arraytoval(predict)\n",
    "m=confusion_matrix(l,p)\n",
    "figuer,ax=plot_confusion_matrix(conf_mat=m,show_absolute=True,show_normed=False,colorbar=True,class_names=column_name)\n",
    "plt.title('DNN')\n",
    "plt.show"
   ]
  },
  {
   "cell_type": "code",
   "execution_count": 10,
   "metadata": {},
   "outputs": [
    {
     "name": "stdout",
     "output_type": "stream",
     "text": [
      "loss:  0.974406361579895  accuarcy:  0.7628865838050842\n",
      "Mean Absolute Error: 0.24020116\n"
     ]
    }
   ],
   "source": [
    "re=recall_score(l,p, average=None)\n",
    "precisi=precision_score(l,p, average=None)\n",
    "dict={\n",
    "    'label':[0,1,2,3],\n",
    "    'recall_score':re,\n",
    "    'precision_score':precisi,\n",
    "}\n",
    "report_df = pd.DataFrame(dict)\n",
    "print(\"loss: \",eval[0],\" accuarcy: \",eval[1])\n",
    "print(\"Mean Absolute Error:\",mean_absolute_error(label_test, predict))"
   ]
  },
  {
   "cell_type": "code",
   "execution_count": 11,
   "metadata": {},
   "outputs": [
    {
     "data": {
      "text/html": [
       "<div>\n",
       "<style scoped>\n",
       "    .dataframe tbody tr th:only-of-type {\n",
       "        vertical-align: middle;\n",
       "    }\n",
       "\n",
       "    .dataframe tbody tr th {\n",
       "        vertical-align: top;\n",
       "    }\n",
       "\n",
       "    .dataframe thead th {\n",
       "        text-align: right;\n",
       "    }\n",
       "</style>\n",
       "<table border=\"1\" class=\"dataframe\">\n",
       "  <thead>\n",
       "    <tr style=\"text-align: right;\">\n",
       "      <th></th>\n",
       "      <th>label</th>\n",
       "      <th>recall_score</th>\n",
       "      <th>precision_score</th>\n",
       "    </tr>\n",
       "  </thead>\n",
       "  <tbody>\n",
       "    <tr>\n",
       "      <th>0</th>\n",
       "      <td>0</td>\n",
       "      <td>0.678571</td>\n",
       "      <td>0.826087</td>\n",
       "    </tr>\n",
       "    <tr>\n",
       "      <th>1</th>\n",
       "      <td>1</td>\n",
       "      <td>0.888889</td>\n",
       "      <td>0.857143</td>\n",
       "    </tr>\n",
       "    <tr>\n",
       "      <th>2</th>\n",
       "      <td>2</td>\n",
       "      <td>1.000000</td>\n",
       "      <td>0.740741</td>\n",
       "    </tr>\n",
       "    <tr>\n",
       "      <th>3</th>\n",
       "      <td>3</td>\n",
       "      <td>0.500000</td>\n",
       "      <td>0.578947</td>\n",
       "    </tr>\n",
       "  </tbody>\n",
       "</table>\n",
       "</div>"
      ],
      "text/plain": [
       "   label  recall_score  precision_score\n",
       "0      0      0.678571         0.826087\n",
       "1      1      0.888889         0.857143\n",
       "2      2      1.000000         0.740741\n",
       "3      3      0.500000         0.578947"
      ]
     },
     "execution_count": 11,
     "metadata": {},
     "output_type": "execute_result"
    }
   ],
   "source": [
    "report_df"
   ]
  },
  {
   "cell_type": "code",
   "execution_count": null,
   "metadata": {},
   "outputs": [],
   "source": []
  }
 ],
 "metadata": {
  "kernelspec": {
   "display_name": "Python 3",
   "language": "python",
   "name": "python3"
  },
  "language_info": {
   "codemirror_mode": {
    "name": "ipython",
    "version": 3
   },
   "file_extension": ".py",
   "mimetype": "text/x-python",
   "name": "python",
   "nbconvert_exporter": "python",
   "pygments_lexer": "ipython3",
   "version": "3.8.5"
  }
 },
 "nbformat": 4,
 "nbformat_minor": 4
}
