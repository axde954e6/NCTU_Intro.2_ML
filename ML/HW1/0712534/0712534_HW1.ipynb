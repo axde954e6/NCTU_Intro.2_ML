{
 "cells": [
  {
   "cell_type": "markdown",
   "metadata": {},
   "source": [
    "\n",
    "\n",
    "---\n",
    "\n",
    "#### Name: 陳永承\n",
    "#### Student ID: 0712534\n",
    "\n",
    "---"
   ]
  },
  {
   "cell_type": "code",
   "execution_count": 1,
   "metadata": {},
   "outputs": [],
   "source": [
    "import numpy as np\n",
    "import pandas as pd\n",
    "import matplotlib.pyplot as plt\n",
    "import urllib3\n",
    "from sklearn.naive_bayes import GaussianNB\n",
    "from sklearn.naive_bayes import CategoricalNB\n",
    "from sklearn.naive_bayes import BernoulliNB\n",
    "from sklearn import datasets\n",
    "from sklearn.model_selection import train_test_split\n",
    "from sklearn.metrics import confusion_matrix\n",
    "from sklearn.metrics import precision_score\n",
    "from sklearn.metrics import classification_report\n",
    "from scipy.sparse import coo_matrix\n",
    "from sklearn.utils import shuffle\n",
    "from sklearn.metrics import recall_score\n",
    "from mlxtend.plotting import plot_confusion_matrix\n",
    "\n",
    "%matplotlib inline"
   ]
  },
  {
   "cell_type": "code",
   "execution_count": 2,
   "metadata": {},
   "outputs": [],
   "source": [
    "def sdev(PL):\n",
    "    M=sum(PL)/len(PL)\n",
    "    D=0\n",
    "    for i in range(len(PL)):\n",
    "        diff=pow((PL[i]-M),2)\n",
    "        D=D+diff\n",
    "    D=D/len(PL)\n",
    "    D=pow(D,0.5)\n",
    "    return D"
   ]
  },
  {
   "cell_type": "markdown",
   "metadata": {},
   "source": [
    "### 1.Data Input"
   ]
  },
  {
   "cell_type": "code",
   "execution_count": 3,
   "metadata": {},
   "outputs": [],
   "source": [
    "\"\"\"\n",
    "iris\n",
    "\"\"\"\n",
    "ir='https://archive.ics.uci.edu/ml/machine-learning-databases/iris/iris.data'\n",
    "ir_column_names=['sepal length','sepal width','petal length','petal width','class']\n",
    "iris = pd.read_csv(ir, header=None, names=ir_column_names)"
   ]
  },
  {
   "cell_type": "code",
   "execution_count": 4,
   "metadata": {},
   "outputs": [],
   "source": [
    "iris_feature=iris.drop(columns='class')\n",
    "iris_label=iris['class'].replace({'Iris-setosa':0,'Iris-versicolor':1,'Iris-virginica':2})\n",
    "iris_feature=np.array(iris_feature,dtype=int)\n",
    "iris_label=np.array(iris_label)"
   ]
  },
  {
   "cell_type": "code",
   "execution_count": 5,
   "metadata": {},
   "outputs": [],
   "source": [
    "\"\"\"\n",
    "mushroom\n",
    "\"\"\"\n",
    "M_column_names=['class','cap-shape','cap-surface','cap-color','bruises?','odor','gill-attachment','gill-spacing','gill-size','gill-color','stalk-shape','stalk-root','stalk-surface-above-ring','stalk-surface-below-ring','stalk-color-above-ring','stalk-color-below-ring','veil-type','veil-color','ring-number','ring-type','spore-print-color','population','habitat']\n",
    "url = 'https://archive.ics.uci.edu/ml/machine-learning-databases/mushroom/agaricus-lepiota.data'\n",
    "mushrooms = pd.read_csv(url, header=None, names=M_column_names)"
   ]
  },
  {
   "cell_type": "code",
   "execution_count": 6,
   "metadata": {},
   "outputs": [],
   "source": [
    "X = mushrooms.drop(columns='class') \n",
    "y = mushrooms['class'].replace({'p':0, 'e':1})\n",
    "takeF=np.array(X)\n",
    "takeL=np.array(y)\n"
   ]
  },
  {
   "cell_type": "markdown",
   "metadata": {},
   "source": [
    "### 2.Data Visualization"
   ]
  },
  {
   "cell_type": "code",
   "execution_count": 7,
   "metadata": {},
   "outputs": [
    {
     "name": "stdout",
     "output_type": "stream",
     "text": [
      "cap-shape\n",
      "e:\tb\t404|c\t0|f\t1596|k\t228|s\t32|x\t1948|\n",
      "p:\tb\t48|c\t4|f\t1556|k\t600|s\t0|x\t1708|\n",
      "cap-surface\n",
      "e:\tf\t1560|g\t0|s\t1144|y\t1504|\n",
      "p:\tf\t760|g\t4|s\t1412|y\t1740|\n",
      "cap-color\n",
      "e:\tb\t48|c\t32|e\t624|g\t1032|n\t1264|p\t56|r\t16|u\t16|w\t720|y\t400|\n",
      "p:\tb\t120|c\t12|e\t876|g\t808|n\t1020|p\t88|r\t0|u\t0|w\t320|y\t672|\n",
      "bruises?\n",
      "e:\tf\t1456|t\t2752|\n",
      "p:\tf\t3292|t\t624|\n",
      "odor\n",
      "e:\ta\t400|c\t0|f\t0|l\t400|m\t0|n\t3408|p\t0|s\t0|y\t0|\n",
      "p:\ta\t0|c\t192|f\t2160|l\t0|m\t36|n\t120|p\t256|s\t576|y\t576|\n",
      "gill-attachment\n",
      "e:\ta\t192|f\t4016|\n",
      "p:\ta\t18|f\t3898|\n",
      "gill-spacing\n",
      "e:\tc\t3008|w\t1200|\n",
      "p:\tc\t3804|w\t112|\n",
      "gill-size\n",
      "e:\tb\t3920|n\t288|\n",
      "p:\tb\t1692|n\t2224|\n",
      "gill-color\n",
      "e:\tb\t0|e\t96|g\t248|h\t204|k\t344|n\t936|o\t64|p\t852|r\t0|u\t444|w\t956|y\t64|\n",
      "p:\tb\t1728|e\t0|g\t504|h\t528|k\t64|n\t112|o\t0|p\t640|r\t24|u\t48|w\t246|y\t22|\n",
      "stalk-shape\n",
      "e:\te\t1616|t\t2592|\n",
      "p:\te\t1900|t\t2016|\n",
      "stalk-root\n",
      "e:\tb\t1920|c\t512|e\t864|r\t192|?\t720|\n",
      "p:\tb\t1856|c\t44|e\t256|r\t0|?\t1760|\n",
      "stalk-surface-above-ring\n",
      "e:\tf\t408|k\t144|s\t3640|y\t16|\n",
      "p:\tf\t144|k\t2228|s\t1536|y\t8|\n",
      "stalk-surface-below-ring\n",
      "e:\tf\t456|k\t144|s\t3400|y\t208|\n",
      "p:\tf\t144|k\t2160|s\t1536|y\t76|\n",
      "stalk-color-above-ring\n",
      "e:\tb\t0|c\t0|e\t96|g\t576|n\t16|o\t192|p\t576|w\t2752|y\t0|\n",
      "p:\tb\t432|c\t36|e\t0|g\t0|n\t432|o\t0|p\t1296|w\t1712|y\t8|\n",
      "stalk-color-below-ring\n",
      "e:\tb\t0|c\t0|e\t96|g\t576|n\t64|o\t192|p\t576|w\t2704|y\t0|\n",
      "p:\tb\t432|c\t36|e\t0|g\t0|n\t448|o\t0|p\t1296|w\t1680|y\t24|\n",
      "veil-type\n",
      "e:\tp\t4208|\n",
      "p:\tp\t3916|\n",
      "veil-color\n",
      "e:\tn\t96|o\t96|w\t4016|y\t0|\n",
      "p:\tn\t0|o\t0|w\t3908|y\t8|\n",
      "ring-number\n",
      "e:\tn\t0|o\t3680|t\t528|\n",
      "p:\tn\t36|o\t3808|t\t72|\n",
      "ring-type\n",
      "e:\te\t1008|f\t48|l\t0|n\t0|p\t3152|\n",
      "p:\te\t1768|f\t0|l\t1296|n\t36|p\t816|\n",
      "spore-print-color\n",
      "e:\tb\t48|h\t48|k\t1648|n\t1744|o\t48|r\t0|u\t48|w\t576|y\t48|\n",
      "p:\tb\t0|h\t1584|k\t224|n\t224|o\t0|r\t72|u\t0|w\t1812|y\t0|\n",
      "population\n",
      "e:\ta\t384|c\t288|n\t400|s\t880|v\t1192|y\t1064|\n",
      "p:\ta\t0|c\t52|n\t0|s\t368|v\t2848|y\t648|\n",
      "habitat\n",
      "e:\td\t1880|g\t1408|l\t240|m\t256|p\t136|u\t96|w\t192|\n",
      "p:\td\t1268|g\t740|l\t592|m\t36|p\t1008|u\t272|w\t0|\n"
     ]
    }
   ],
   "source": [
    "\"\"\"\n",
    "For mushroom dataset\n",
    "\"\"\"\n",
    "worde=[]\n",
    "wordp=[]\n",
    "for i in range(27):\n",
    "    worde.append(0)\n",
    "    wordp.append(0)\n",
    "for j in range(22):\n",
    "    print(M_column_names[j+1])\n",
    "    for i in range(len(takeF)):\n",
    "        if(y[i]==1):\n",
    "            \n",
    "            if(takeF[i][j]=='?'):\n",
    "                worde[26]=worde[26]+1\n",
    "            else:\n",
    "            \n",
    "                w=ord(takeF[i][j])-ord('a')\n",
    "                worde[w]=worde[w]+1\n",
    "        elif (y[i]==0):\n",
    "            \n",
    "            if(takeF[i][j]=='?'):\n",
    "                wordp[26]=wordp[26]+1\n",
    "            else:\n",
    "            \n",
    "                w=ord(takeF[i][j])-ord('a')\n",
    "                wordp[w]=wordp[w]+1\n",
    "                \n",
    "    print('e:',end='\\t')\n",
    "    for i in range(27):\n",
    "\n",
    "        if(worde[i]!=0 or wordp[i]!=0):\n",
    "            if i==26:\n",
    "                print('?\\t'+str(worde[i]),end='|')\n",
    "                continue\n",
    "            print(chr(ord('a')+i)+'\\t'+str(worde[i]),end='|')\n",
    "            \n",
    "    print()\n",
    "    print('p:',end='\\t')\n",
    "    for i in range(27):\n",
    "        if(wordp[i]!=0 or worde[i]!=0):\n",
    "            if i==26:\n",
    "                print('?\\t'+str(wordp[i]),end='|')\n",
    "                wordp[i]=0\n",
    "                worde[i]=0\n",
    "                continue\n",
    "            print(chr(ord('a')+i)+'\\t'+str(wordp[i]),end='|')\n",
    "            wordp[i]=0\n",
    "            worde[i]=0\n",
    "    \n",
    "    print()"
   ]
  },
  {
   "cell_type": "code",
   "execution_count": 8,
   "metadata": {},
   "outputs": [
    {
     "name": "stdout",
     "output_type": "stream",
     "text": [
      "\t\t\tIris-setosa \tIris-versicolor \tIris-virginica\n",
      "number of class:\t50\t\t50\t\t\t50\n",
      "sepal length average:\t4.6\t\t5.48\t\t\t6.08\n",
      "sepal length deviation:\t0.489898\t0.574108\t\t0.658483\n",
      "sepal width average:\t3.04\t\t2.32\t\t\t2.58\n",
      "sepal width deviation:\t0.344093\t0.466476\t\t0.493559\n",
      "petal length average:\t1.0\t\t3.82\t\t\t5.1\n",
      "petal length deviation:\t0.0\t\t0.477074\t\t0.574456\n",
      "petal width average:\t0.0\t\t1.0\t\t\t1.58\n",
      "petal width deviation:\t0.0\t\t0.0\t\t\t0.493559\n"
     ]
    }
   ],
   "source": [
    "\"\"\"\n",
    "For iris dataset\n",
    "\"\"\"\n",
    "iris_0_sl=[];iris_0_sw=[];iris_0_pl=[];iris_0_pw=[]\n",
    "iris_1_sl=[];iris_1_sw=[];iris_1_pl=[];iris_1_pw=[]\n",
    "iris_2_sl=[];iris_2_sw=[];iris_2_pl=[];iris_2_pw=[]\n",
    "iris_c=[0,0,0]\n",
    "I_class=['Iris-setosa','Iris-versicolor','Iris-virginica']\n",
    "\n",
    "for i in range(len(iris_label)):\n",
    "    if iris_label[i]==0:\n",
    "        iris_c[0]=iris_c[0]+1\n",
    "        iris_0_sl.append(iris_feature[i][0])\n",
    "        iris_0_sw.append(iris_feature[i][1])\n",
    "        iris_0_pl.append(iris_feature[i][2])\n",
    "        iris_0_pw.append(iris_feature[i][3])\n",
    "    elif iris_label[i]==1:\n",
    "        iris_c[1]=iris_c[1]+1\n",
    "        iris_1_sl.append(iris_feature[i][0])\n",
    "        iris_1_sw.append(iris_feature[i][1])\n",
    "        iris_1_pl.append(iris_feature[i][2])\n",
    "        iris_1_pw.append(iris_feature[i][3])\n",
    "    elif iris_label[i]==2:\n",
    "        iris_c[2]=iris_c[2]+1\n",
    "        iris_2_sl.append(iris_feature[i][0])\n",
    "        iris_2_sw.append(iris_feature[i][1])\n",
    "        iris_2_pl.append(iris_feature[i][2])\n",
    "        iris_2_pw.append(iris_feature[i][3])\n",
    "\n",
    "print('\\t\\t\\t'+I_class[0]+' \\t'+I_class[1]+' \\t'+I_class[2])\n",
    "print('number of class:\\t'+str(iris_c[0])+'\\t\\t'+str(iris_c[1])+'\\t\\t\\t'+str(iris_c[2]))\n",
    "print('sepal length average:\\t'+str(round(sum(iris_0_sl)/iris_c[0],6))+'\\t\\t'+str(round(sum(iris_1_sl)/iris_c[1],6))+'\\t\\t\\t'+str(round(sum(iris_2_sl)/iris_c[2],6)))\n",
    "print('sepal length deviation:\\t'+str(round(sdev(iris_0_sl),6))+'\\t'+str(round(sdev(iris_1_sl),6))+'\\t\\t'+str(round(sdev(iris_2_sl),6)))\n",
    "print('sepal width average:\\t'+str(round(sum(iris_0_sw)/iris_c[0],6))+'\\t\\t'+str(round(sum(iris_1_sw)/iris_c[1],6))+'\\t\\t\\t'+str(round(sum(iris_2_sw)/iris_c[2],6)))\n",
    "print('sepal width deviation:\\t'+str(round(sdev(iris_0_sw),6))+'\\t'+str(round(sdev(iris_1_sw),6))+'\\t\\t'+str(round(sdev(iris_2_sw),6)))\n",
    "\n",
    "print('petal length average:\\t'+str(round(sum(iris_0_pl)/iris_c[0],6))+'\\t\\t'+str(round(sum(iris_1_pl)/iris_c[1],6))+'\\t\\t\\t'+str(round(sum(iris_2_pl)/iris_c[2],6)))\n",
    "print('petal length deviation:\\t'+str(round(sdev(iris_0_pl),6))+'\\t\\t'+str(round(sdev(iris_1_pl),6))+'\\t\\t'+str(round(sdev(iris_2_pl),6)))\n",
    "print('petal width average:\\t'+str(round(sum(iris_0_pw)/iris_c[0],6))+'\\t\\t'+str(round(sum(iris_1_pw)/iris_c[1],6))+'\\t\\t\\t'+str(round(sum(iris_2_pw)/iris_c[2],6)))\n",
    "print('petal width deviation:\\t'+str(round(sdev(iris_0_pw),6))+'\\t\\t'+str(round(sdev(iris_1_pw),6))+'\\t\\t\\t'+str(round(sdev(iris_2_pw),6)))\n"
   ]
  },
  {
   "cell_type": "markdown",
   "metadata": {},
   "source": [
    "### 3.Data Preprocessing"
   ]
  },
  {
   "cell_type": "code",
   "execution_count": 9,
   "metadata": {},
   "outputs": [],
   "source": [
    "\"\"\"\n",
    "Drop features with any missing value.\n",
    "\"\"\"\n",
    "k=mushrooms['stalk-root']\n",
    "mushrooms = pd.read_csv(url, header=None, names=M_column_names)\n",
    "X = mushrooms\n",
    "for i in range(len(k)):\n",
    "    if k[i]=='?':\n",
    "        X=X.drop(index=i)\n",
    "y = X['class'].replace({'p':0, 'e':1})\n",
    "X = X.drop(columns='class') \n",
    "takeF=np.array(X)\n",
    "takeL=np.array(y)\n",
    "\n",
    "\"\"\"\n",
    "Transform data format and shape so your model can process them.\n",
    "\"\"\"\n",
    "for i in range(len(takeF)):\n",
    "    for j in range(len(takeF[0])):\n",
    "        takeF[i][j]=int(ord(takeF[i][j])-ord('a'))\n",
    "        \n",
    "\"\"\"\n",
    "Shuffle the data.\n",
    "\"\"\"\n",
    "takeF, y = shuffle(takeF, y, random_state=0)\n",
    "iris_feature, iris_label = shuffle(iris_feature, iris_label, random_state=0)"
   ]
  },
  {
   "cell_type": "markdown",
   "metadata": {},
   "source": [
    "### 5.Train-Test-Split "
   ]
  },
  {
   "cell_type": "code",
   "execution_count": 10,
   "metadata": {},
   "outputs": [],
   "source": [
    "\"\"\"\n",
    "Holdout validation -Mushroom\n",
    "\"\"\"\n",
    "M_F_train, M_F_test, M_L_train, M_L_test = train_test_split(takeF, y, test_size=0.3)\n",
    "\n",
    "\n",
    "\n",
    "\"\"\"\n",
    "K-fold cross-validation -Mushroom\n",
    "\"\"\"\n",
    "M_K_train_L_1=y[:int(len(takeF)*2/3)]\n",
    "M_K_train_F_1=takeF[:int(len(takeF)*2/3)]\n",
    "M_K_test_L_1=y[int(len(takeF)*2/3):]\n",
    "M_K_test_F_1=takeF[int(len(takeF)*2/3):]\n",
    "\n",
    "M_K_train_L_2=np.concatenate((y[0:int(len(takeF)*1/3)],y[int(len(takeF)*2/3):]),axis=0)\n",
    "M_K_train_F_2=np.concatenate((takeF[0:int(len(takeF)*1/3)],takeF[int(len(takeF)*2/3):]),axis=0)\n",
    "M_K_test_L_2=y[int(len(takeF)*1/3):int(len(takeF)*2/3)]\n",
    "M_K_test_F_2=takeF[int(len(takeF)*1/3):int(len(takeF)*2/3)]\n",
    "\n",
    "M_K_train_L_3=y[int(len(takeF)*1/3):]\n",
    "M_K_train_F_3=takeF[int(len(takeF)*1/3):]\n",
    "M_K_test_L_3=y[:int(len(takeF)*1/3)]\n",
    "M_K_test_F_3=takeF[:int(len(takeF)*1/3)]\n",
    "\n",
    "\"\"\"\n",
    "Holdout validation -iris\n",
    "\"\"\"\n",
    "irisF_train,irisF_test,irisL_train,irisL_test=train_test_split(iris_feature,iris_label,test_size=0.3)\n",
    "\"\"\"\n",
    "K-fold cross-validation -iris\n",
    "\"\"\"\n",
    "I_K_train_L_1=iris_label[:int(len(iris_label)*2/3)]\n",
    "I_K_train_F_1=iris_feature[:int(len(iris_label)*2/3)]\n",
    "I_K_test_L_1=iris_label[int(len(iris_label)*2/3):]\n",
    "I_K_test_F_1=iris_feature[int(len(iris_label)*2/3):]\n",
    "\n",
    "I_K_train_L_2=np.concatenate((iris_label[0:int(len(iris_label)*1/3)],iris_label[int(len(iris_label)*2/3):]),axis=0)\n",
    "I_K_train_F_2=np.concatenate((iris_feature[0:int(len(iris_label)*1/3)],iris_feature[int(len(iris_label)*2/3):]),axis=0)\n",
    "I_K_test_L_2=iris_label[int(len(iris_label)*1/3):int(len(iris_label)*2/3)]\n",
    "I_K_test_F_2=iris_feature[int(len(iris_label)*1/3):int(len(iris_label)*2/3)]\n",
    "\n",
    "I_K_train_L_3=iris_label[:int(len(iris_label)*1/3)]\n",
    "I_K_train_F_3=iris_feature[:int(len(iris_label)*1/3)]\n",
    "I_K_test_L_3=iris_label[int(len(iris_label)*1/3):]\n",
    "I_K_test_F_3=iris_feature[int(len(iris_label)*1/3):]"
   ]
  },
  {
   "cell_type": "markdown",
   "metadata": {},
   "source": [
    "### 4.Model Construction"
   ]
  },
  {
   "cell_type": "code",
   "execution_count": 11,
   "metadata": {},
   "outputs": [
    {
     "data": {
      "text/plain": [
       "GaussianNB(priors=None, var_smoothing=1e-09)"
      ]
     },
     "execution_count": 11,
     "metadata": {},
     "output_type": "execute_result"
    }
   ],
   "source": [
    "\"\"\"\n",
    "Mushroom - K-fold cross-validation\n",
    "no smoothing\n",
    "\"\"\"\n",
    "mush_K1_NS_model=CategoricalNB(alpha=1.0e-10)\n",
    "mush_K1_NS_model.fit(M_K_train_F_1,M_K_train_L_1)\n",
    "mush_K2_NS_model=CategoricalNB(alpha=1.0e-10)\n",
    "mush_K2_NS_model.fit(M_K_train_F_2,M_K_train_L_2)\n",
    "mush_K3_NS_model=CategoricalNB(alpha=1.0e-10)\n",
    "mush_K3_NS_model.fit(M_K_train_F_3,M_K_train_L_3)\n",
    "\"\"\"\n",
    "Mushroom - Holdout validation\n",
    "no smoothing\n",
    "\"\"\"\n",
    "mush_NS_model=CategoricalNB(alpha=1.0e-10)\n",
    "mush_NS_model.fit(M_F_train,M_L_train)\n",
    "\n",
    "\"\"\"\n",
    "Mushroom - K-fold cross-validation\n",
    "Laplace smoothing\n",
    "\"\"\"\n",
    "mush_K1_LS_model=CategoricalNB(alpha=1.0)\n",
    "mush_K1_LS_model.fit(M_K_train_F_1,M_K_train_L_1)\n",
    "mush_K2_LS_model=CategoricalNB(alpha=1.0)\n",
    "mush_K2_LS_model.fit(M_K_train_F_2,M_K_train_L_2)\n",
    "mush_K3_LS_model=CategoricalNB(alpha=1.0)\n",
    "mush_K3_LS_model.fit(M_K_train_F_3,M_K_train_L_3)\n",
    "\n",
    "\"\"\"\n",
    "Mushroom - Holdout validation\n",
    "Laplace smoothing\n",
    "\"\"\"\n",
    "mush_LS_model=CategoricalNB(alpha=1.0)  #Laplace smoothing\n",
    "mush_LS_model.fit(M_F_train,M_L_train)\n",
    "\n",
    "\"\"\"\n",
    "iris - K-fold cross-validation\n",
    "\"\"\"\n",
    "iris_K1_modelG=GaussianNB()\n",
    "iris_K1_modelG.fit(I_K_train_F_1,I_K_train_L_1)\n",
    "iris_K2_modelG=GaussianNB()\n",
    "iris_K2_modelG.fit(I_K_train_F_2,I_K_train_L_2)\n",
    "iris_K3_modelG=GaussianNB()\n",
    "iris_K3_modelG.fit(I_K_train_F_3,I_K_train_L_3)\n",
    "\n",
    "\"\"\"\n",
    "iris - Holdout validation\n",
    "\"\"\"\n",
    "iris_modelG=GaussianNB()\n",
    "iris_modelG.fit(irisF_train,irisL_train)"
   ]
  },
  {
   "cell_type": "markdown",
   "metadata": {},
   "source": [
    "### 6.Results"
   ]
  },
  {
   "cell_type": "code",
   "execution_count": 12,
   "metadata": {},
   "outputs": [],
   "source": [
    "M_k1=mush_K1_NS_model.predict(M_K_test_F_1)\n",
    "M_k2=mush_K2_NS_model.predict(M_K_test_F_2)\n",
    "M_k3=mush_K3_NS_model.predict(M_K_test_F_3)\n",
    "#\n",
    "M_H=mush_NS_model.predict(M_F_test)\n",
    "#\n",
    "M_k1_LS=mush_K1_LS_model.predict(M_K_test_F_1)\n",
    "M_k2_LS=mush_K2_LS_model.predict(M_K_test_F_2)\n",
    "M_k3_LS=mush_K3_LS_model.predict(M_K_test_F_3)\n",
    "#\n",
    "M_H_LS=mush_LS_model.predict(M_F_test)\n",
    "#\n",
    "I_k1=iris_K1_modelG.predict(I_K_test_F_1)\n",
    "I_k2=iris_K2_modelG.predict(I_K_test_F_2)\n",
    "I_k3=iris_K2_modelG.predict(I_K_test_F_3)\n",
    "#\n",
    "I_H=iris_modelG.predict(irisF_test)"
   ]
  },
  {
   "cell_type": "code",
   "execution_count": 13,
   "metadata": {},
   "outputs": [
    {
     "data": {
      "text/plain": [
       "<function matplotlib.pyplot.show(*args, **kw)>"
      ]
     },
     "execution_count": 13,
     "metadata": {},
     "output_type": "execute_result"
    },
    {
     "data": {
      "image/png": "[encoded data removed]",
      "text/plain": [
       "<Figure size 432x288 with 2 Axes>"
      ]
     },
     "metadata": {
      "needs_background": "light"
     },
     "output_type": "display_data"
    },
    {
     "data": {
      "image/png": "[encoded data removed]",
      "text/plain": [
       "<Figure size 432x288 with 2 Axes>"
      ]
     },
     "metadata": {
      "needs_background": "light"
     },
     "output_type": "display_data"
    },
    {
     "data": {
      "image/png": "[encoded data removed]",
      "text/plain": [
       "<Figure size 432x288 with 2 Axes>"
      ]
     },
     "metadata": {
      "needs_background": "light"
     },
     "output_type": "display_data"
    },
    {
     "data": {
      "image/png": "[encoded data removed]",
      "text/plain": [
       "<Figure size 432x288 with 2 Axes>"
      ]
     },
     "metadata": {
      "needs_background": "light"
     },
     "output_type": "display_data"
    },
    {
     "data": {
      "image/png": "[encoded data removed]",
      "text/plain": [
       "<Figure size 432x288 with 2 Axes>"
      ]
     },
     "metadata": {
      "needs_background": "light"
     },
     "output_type": "display_data"
    },
    {
     "data": {
      "image/png": "[encoded data removed]",
      "text/plain": [
       "<Figure size 432x288 with 2 Axes>"
      ]
     },
     "metadata": {
      "needs_background": "light"
     },
     "output_type": "display_data"
    }
   ],
   "source": [
    "\"\"\"\n",
    "Confusion matrix\n",
    "\"\"\"\n",
    "column_name=['e','p']\n",
    "#row_name=['Guess-e','Guess-p']\n",
    "#'Iris-setosa':0,'Iris-versicolor':1,'Iris-virginica':2\n",
    "I_column_name=['Iris-setosa','Iris-versicolor','Iris-virginica']\n",
    "#I_row_name=['Guess-setosa','Guess-versicolor','Guess-virginica']\n",
    "\"\"\"\n",
    "Mushroom - K-fold cross-validation\n",
    "no smoothing\n",
    "\"\"\"\n",
    "M_K1=confusion_matrix(M_K_test_L_1, M_k1)\n",
    "M_K2= confusion_matrix(M_K_test_L_2, M_k2)\n",
    "M_K3 = confusion_matrix(M_K_test_L_3, M_k3)\n",
    "M_K_NS=confusion_matrix(M_K_test_L_1, M_k1)\n",
    "for i in range(2):\n",
    "    for j in range(2):\n",
    "        M_K_NS[i][j]=(M_K1[i][j]+M_K2[i][j]+M_K3[i][j])/3\n",
    "figuer,ax=plot_confusion_matrix(conf_mat=M_K_NS,show_absolute=True,show_normed=False,colorbar=True,class_names=column_name)\n",
    "plt.title('Mushroom - K-fold cross-validation no smoothing\\nConfusion matrix')\n",
    "plt.show\n",
    "\"\"\"\n",
    "Mushroom - Holdout validation\n",
    "no smoothing\n",
    "\"\"\"\n",
    "M_H_NS=confusion_matrix(M_L_test, M_H)\n",
    "figuer,ax=plot_confusion_matrix(conf_mat=M_H_NS,show_absolute=True,show_normed=False,colorbar=True,class_names=column_name)\n",
    "plt.title('Mushroom - Holdout validation no smoothing\\nConfusion matrix')\n",
    "plt.show\n",
    "\"\"\"\n",
    "Mushroom - K-fold cross-validation\n",
    "Laplace smoothing\n",
    "\"\"\"\n",
    "M_K1_LS=confusion_matrix(M_K_test_L_1, M_k1_LS)\n",
    "M_K2_LS= confusion_matrix(M_K_test_L_2, M_k2_LS)\n",
    "M_K3_LS = confusion_matrix(M_K_test_L_3, M_k3_LS)\n",
    "M_K_LS=confusion_matrix(M_K_test_L_1, M_k1_LS)\n",
    "for i in range(2):\n",
    "    for j in range(2):\n",
    "        M_K_LS[i][j]=(M_K1_LS[i][j]+M_K2_LS[i][j]+M_K3_LS[i][j])/3\n",
    "figuer,ax=plot_confusion_matrix(conf_mat=M_K_LS,show_absolute=True,show_normed=False,colorbar=True,class_names=column_name)\n",
    "plt.title('Mushroom - K-fold cross-validation with Laplace smoothing\\nConfusion matrix')\n",
    "plt.show\n",
    "\n",
    "\"\"\"\n",
    "Mushroom - Holdout validation\n",
    "Laplace smoothing\n",
    "\"\"\"\n",
    "M_H_LS = confusion_matrix(M_L_test, M_H_LS)\n",
    "figuer,ax=plot_confusion_matrix(conf_mat=M_H_LS,show_absolute=True,show_normed=False,colorbar=True,class_names=column_name)\n",
    "plt.title('Mushroom - Holdout validation with Laplace smoothing\\nConfusion matrix')\n",
    "plt.show\n",
    "\n",
    "\"\"\"\n",
    "iris - K-fold cross-validation\n",
    "\"\"\"\n",
    "I_K_m=confusion_matrix(I_K_test_L_1,I_k1)\n",
    "I_K1_m=confusion_matrix(I_K_test_L_1,I_k1)\n",
    "I_K2_m=confusion_matrix(I_K_test_L_2,I_k2)\n",
    "I_K3_m=confusion_matrix(I_K_test_L_3,I_k3)\n",
    "for i in range(3):\n",
    "    for j in range(3):\n",
    "        I_K_m[i][j]=round((I_K1_m[i][j]+I_K2_m[i][j]+I_K3_m[i][j])/3,2)\n",
    "figuer,ax=plot_confusion_matrix(conf_mat=I_K_m,show_absolute=True,show_normed=False,colorbar=True,class_names=I_column_name)\n",
    "plt.title('iris - K-fold cross-validation\\nConfusion matrix')\n",
    "plt.show\n",
    "\n",
    "\"\"\"\n",
    "iris - Holdout validation\n",
    "\"\"\"\n",
    "I_H_m=confusion_matrix(irisL_test,I_H)\n",
    "figuer,ax=plot_confusion_matrix(conf_mat=I_H_m,show_absolute=True,show_normed=False,colorbar=True,class_names=I_column_name)\n",
    "plt.title('iris -Holdout validation\\nConfusion matrix')\n",
    "plt.show"
   ]
  },
  {
   "cell_type": "code",
   "execution_count": 14,
   "metadata": {},
   "outputs": [
    {
     "name": "stdout",
     "output_type": "stream",
     "text": [
      "Mushroom - K-fold cross-validation without smoothing\n",
      "Accuracy = 0.9975195209548362\n",
      "Sensitivity:\te= 1.0\t\tp= 0.9959842686759277\n",
      "Precision:\te= 0.993538\tp= 1.0\n",
      "\n",
      "Mushroom - Holdout validation without smoothing\n",
      "Accuracy = 0.9946871310507674\n",
      "Sensitivity:\te= 1.0\t\tp= 0.9915809167446211\n",
      "Precision:\te= 0.985804\tp= 1.0\n",
      "\n",
      "Mushroom - K-fold cross-validation with Laplace smoothing\n",
      "Accuracy = 0.9652744232978027\n",
      "Sensitivity:\te= 0.9158687943262412\tp= 0.9959842686759277\n",
      "Precision:\te= 0.9929395022183841\tp= 0.950157\n",
      "\n",
      "Mushroom - Holdout validation with Laplace smoothing\n",
      "Accuracy = 0.9775678866587958\n",
      "Sensitivity:\te= 0.9536\tp= 0.9915809167446211\n",
      "Precision:\te= 0.9851239669421488\tp= 0.97337\n",
      "\n",
      "iris - K-fold cross-validation\n",
      "Accuracy = 0.89\n",
      "Sensitivity:\tsetosa= 1.0\tversicolor= 1.0 \tvirginica= 0.696825\n",
      "Precision:\tsetosa= 1.0\tversicolor= 0.741486 \tvirginica= 1.0\n",
      "\n",
      "iris - Holdout validation\n",
      "Accuracy = 0.8222222222222222\n",
      "Sensitivity:\tsetosa= 1.0\tversicolor= 1.0 \tvirginica= 0.529412\n",
      "Precision:\tsetosa= 1.0\tversicolor= 0.636364 \tvirginica= 1.0\n"
     ]
    }
   ],
   "source": [
    "\"\"\"\n",
    "Accuracy / Sensitivity(Recall) / Precision\n",
    "\"\"\"\n",
    "M_k1=mush_K1_NS_model.predict(M_K_test_F_1)\n",
    "M_k2=mush_K2_NS_model.predict(M_K_test_F_2)\n",
    "M_k3=mush_K3_NS_model.predict(M_K_test_F_3)\n",
    "#\n",
    "M_H=mush_NS_model.predict(M_F_test)\n",
    "#\n",
    "M_k1_LS=mush_K1_LS_model.predict(M_K_test_F_1)\n",
    "M_k2_LS=mush_K2_LS_model.predict(M_K_test_F_2)\n",
    "M_k3_LS=mush_K3_LS_model.predict(M_K_test_F_3)\n",
    "#\n",
    "M_H_LS=mush_LS_model.predict(M_F_test)\n",
    "#\n",
    "I_k1=iris_K1_modelG.predict(I_K_test_F_1)\n",
    "I_k2=iris_K2_modelG.predict(I_K_test_F_2)\n",
    "I_k3=iris_K2_modelG.predict(I_K_test_F_3)\n",
    "#\n",
    "I_H=iris_modelG.predict(irisF_test)\n",
    "\"\"\"\n",
    "Mushroom - K-fold cross-validation\n",
    "no smoothing\n",
    "\"\"\"\n",
    "M_K_NS_score=(mush_K1_NS_model.score(M_K_test_F_1,M_K_test_L_1)+mush_K2_NS_model.score(M_K_test_F_2,M_K_test_L_2)+mush_K3_NS_model.score(M_K_test_F_3,M_K_test_L_3))/3\n",
    "print('Mushroom - K-fold cross-validation without smoothing\\nAccuracy = '+str(M_K_NS_score))\n",
    "\n",
    "M_K_NS_r=recall_score(M_K_test_L_1,M_k1, average=None)\n",
    "r1=recall_score(M_K_test_L_1,M_k1, average=None)\n",
    "r2=recall_score(M_K_test_L_2,M_k2, average=None)\n",
    "r3=recall_score(M_K_test_L_3,M_k3, average=None)\n",
    "for i in range(2):\n",
    "    M_K_NS_r[i]=(r1[i]+r2[i]+r3[i])/3\n",
    "print('Sensitivity:\\te= '+str(M_K_NS_r[0])+'\\t\\tp= '+str(M_K_NS_r[1]))\n",
    "\n",
    "M_K_NS_p=precision_score(M_K_test_L_1, M_k1,average=None)\n",
    "M_K_NS_p1=precision_score(M_K_test_L_1, M_k1,average=None)\n",
    "M_K_NS_p2=precision_score(M_K_test_L_2, M_k2,average=None)\n",
    "M_K_NS_p3=precision_score(M_K_test_L_3, M_k3,average=None)\n",
    "for i in range(2):\n",
    "    M_K_NS_p[i]=(M_K_NS_p1[i]+M_K_NS_p2[i]+M_K_NS_p3[i])/3\n",
    "print('Precision:\\te= '+str(round(M_K_NS_p[0],6))+'\\tp= '+str(round((M_K_NS_p[1]),6)))\n",
    "print()\n",
    "\"\"\"\n",
    "Mushroom - Holdout validation\n",
    "no smoothing\n",
    "\"\"\"\n",
    "M_H_NS_score=mush_NS_model.score(M_F_test,M_L_test)\n",
    "M_H_NS_r=recall_score(M_L_test,M_H, average=None)\n",
    "print('Mushroom - Holdout validation without smoothing\\nAccuracy = '+str(M_H_NS_score))\n",
    "\n",
    "print('Sensitivity:\\te= '+str(M_H_NS_r[0])+'\\t\\tp= '+str(M_H_NS_r[1]))\n",
    "\n",
    "\n",
    "M_H_NS_p=precision_score(M_L_test, M_H,average=None)\n",
    "print('Precision:\\te= '+str(round(M_H_NS_p[0],6))+'\\tp= '+str(round((M_H_NS_p[1]),6)))\n",
    "print()\n",
    "\"\"\"\n",
    "Mushroom - K-fold cross-validation\n",
    "Laplace smoothing\n",
    "\"\"\"\n",
    "M_K_LS_score=(mush_K1_LS_model.score(M_K_test_F_1,M_K_test_L_1)+mush_K2_LS_model.score(M_K_test_F_2,M_K_test_L_2)+mush_K3_LS_model.score(M_K_test_F_3,M_K_test_L_3))/3\n",
    "print('Mushroom - K-fold cross-validation with Laplace smoothing\\nAccuracy = '+str(M_K_LS_score))\n",
    "\n",
    "M_K_LS_r=recall_score(M_K_test_L_1,M_k1_LS, average=None)\n",
    "LS_r1=recall_score(M_K_test_L_1,M_k1_LS, average=None)\n",
    "LS_r2=recall_score(M_K_test_L_2,M_k2_LS, average=None)\n",
    "LS_r3=recall_score(M_K_test_L_3,M_k3_LS, average=None)\n",
    "for i in range(2):\n",
    "    M_K_LS_r[i]=(LS_r1[i]+LS_r2[i]+LS_r3[i])/3\n",
    "print('Sensitivity:\\te= '+str(M_K_LS_r[0])+'\\tp= '+str(M_K_LS_r[1]))\n",
    "\n",
    "M_K_LS_p=precision_score(M_K_test_L_1, M_k1_LS,average=None)\n",
    "M_K_LS_p1=precision_score(M_K_test_L_1, M_k1_LS,average=None)\n",
    "M_K_LS_p2=precision_score(M_K_test_L_2, M_k2_LS,average=None)\n",
    "M_K_LS_p3=precision_score(M_K_test_L_3, M_k3_LS,average=None)\n",
    "for i in range(2):\n",
    "    M_K_LS_p[i]=(M_K_LS_p1[i]+M_K_LS_p2[i]+M_K_LS_p3[i])/3\n",
    "print('Precision:\\te= '+str(M_K_LS_p[0])+'\\tp= '+str(round((M_K_LS_p[1]),6)))\n",
    "print()\n",
    "\"\"\"\n",
    "Mushroom - Holdout validation\n",
    "Laplace smoothing\n",
    "\"\"\"\n",
    "M_H_LS_score=mush_LS_model.score(M_F_test,M_L_test)\n",
    "print('Mushroom - Holdout validation with Laplace smoothing\\nAccuracy = '+str(M_H_LS_score))\n",
    "\n",
    "M_H_LS_r=recall_score(M_L_test,M_H_LS, average=None)\n",
    "print('Sensitivity:\\te= '+str(M_H_LS_r[0])+'\\tp= '+str(M_H_LS_r[1]))\n",
    "\n",
    "M_H_LS_p=precision_score(M_L_test, M_H_LS,average=None)\n",
    "print('Precision:\\te= '+str(M_H_LS_p[0])+'\\tp= '+str(round((M_H_LS_p[1]),6)))\n",
    "print()\n",
    "\"\"\"\n",
    "iris - K-fold cross-validation\n",
    "\"\"\"\n",
    "I_K_score=(iris_K1_modelG.score(I_K_test_F_1,I_K_test_L_1)+iris_K2_modelG.score(I_K_test_F_2,I_K_test_L_2)+iris_K3_modelG.score(I_K_test_F_3,I_K_test_L_3))/3\n",
    "print('iris - K-fold cross-validation\\nAccuracy = '+str(I_K_score))\n",
    "\n",
    "I_K_r=recall_score(I_K_test_L_1,I_k1, average=None)\n",
    "I_r1=recall_score(I_K_test_L_1,I_k1, average=None)\n",
    "I_r2=recall_score(I_K_test_L_2,I_k2, average=None)\n",
    "I_r3=recall_score(I_K_test_L_3,I_k3, average=None)\n",
    "for i in range(3):\n",
    "    I_K_r[i]=(I_r1[i]+I_r2[i]+I_r3[i])/3\n",
    "print('Sensitivity:\\tsetosa= '+str(I_K_r[0])+'\\tversicolor= '+str(I_K_r[1])+' \\tvirginica= '+str(round(I_K_r[2],6)))\n",
    "\n",
    "I_K_p=precision_score(I_K_test_L_1, I_k1,average=None)\n",
    "I_K_p1=precision_score(I_K_test_L_1, I_k1,average=None)\n",
    "I_K_p2=precision_score(I_K_test_L_2, I_k2,average=None)\n",
    "I_K_p3=precision_score(I_K_test_L_3, I_k3,average=None)\n",
    "for i in range(3):\n",
    "    I_K_p[i]=(I_K_p1[i]+I_K_p2[i]+I_K_p3[i])/3\n",
    "print('Precision:\\tsetosa= '+str(I_K_p[0])+'\\tversicolor= '+str(round((I_K_p[1]),6))+' \\tvirginica= '+str(I_K_p[2]))\n",
    "print()\n",
    "\"\"\"\n",
    "iris - Holdout validation\n",
    "\"\"\"\n",
    "I_H_score=iris_modelG.score(irisF_test,irisL_test)\n",
    "print('iris - Holdout validation\\nAccuracy = '+str(I_H_score))\n",
    "\n",
    "I_H_r=recall_score(irisL_test,I_H, average=None)\n",
    "print('Sensitivity:\\tsetosa= '+str(I_H_r[0])+'\\tversicolor= '+str(I_H_r[1])+' \\tvirginica= '+str(round(I_H_r[2],6)))\n",
    "\n",
    "I_H_p=precision_score(irisL_test, I_H,average=None)\n",
    "print('Precision:\\tsetosa= '+str(I_H_p[0])+'\\tversicolor= '+str(round((I_H_p[1]),6))+' \\tvirginica= '+str(I_H_p[2]))"
   ]
  },
  {
   "cell_type": "markdown",
   "metadata": {},
   "source": [
    "______\n",
    "### 7.Comparison & Conclusion \n",
    "。k-fold v.s. holdout<br>\n",
    "在沒有smoothing的狀況時，無論用k-fold或holdout的精準度都相當高(高於99%)<br>\n",
    "在有Laplace smoothing的狀況時，2者精準度也很高(96%左右)，但用k-fold會比較高一些<br>\n",
    "在iris的數據中，k-fold在精準度上有稍加明確的比holdout高(k-fold:89% ; holdout:84%)<br>\n",
    "因此推斷，因為k-fold是將訓練拆分3次再取平均，所以k-fold在訓練上會將全部的資料放入訓練，每筆資料相當於貢獻2/3<br>\n",
    "而holdout是70%的資料貢獻全部，但有30%的資料沒有貢獻該次訓練。<br>\n",
    "導致測試時k-fold的結果會比較準確。<br>\n",
    "<br>\n",
    "。Laplace smoothing v.s. Without Laplace smoothing<br>\n",
    "若有一特徵未出現過，P(features|label)會變為0，這樣就會導致P(label|features)也為0，這種情況是不對的<br>\n",
    "Laplace在數據足夠大時不會造成太大的影響，且Laplace smoothing可以解決其一特徵為0的情況<br>\n",
    "而在本次訓練中，Laplace smoothing後的精準度有些微的降低，推測是數據量仍不夠多，使影響有稍加明顯的變化<br>\n",
    "<br>\n",
    "。iris v.s. mushroom<br>\n",
    "iris訓練的精準度明顯的比mushroom低<br>\n",
    "推測是因為iris的數據明顯的比mushroom少，且mushroom是分成2類，但iris是分成3類。導致iris的精準度不高<br>"
   ]
  },
  {
   "cell_type": "markdown",
   "metadata": {},
   "source": [
    "__________________________________________________________________________\n",
    "### 8.Questions"
   ]
  },
  {
   "cell_type": "code",
   "execution_count": 15,
   "metadata": {},
   "outputs": [
    {
     "name": "stdout",
     "output_type": "stream",
     "text": [
      "without Laplace smoothing\n"
     ]
    },
    {
     "data": {
      "image/png": "[encoded data removed]",
      "text/plain": [
       "<Figure size 432x288 with 1 Axes>"
      ]
     },
     "metadata": {
      "needs_background": "light"
     },
     "output_type": "display_data"
    },
    {
     "name": "stdout",
     "output_type": "stream",
     "text": [
      "with Laplace smoothing\n"
     ]
    },
    {
     "data": {
      "image/png": "[encoded data removed]",
      "text/plain": [
       "<Figure size 432x288 with 1 Axes>"
      ]
     },
     "metadata": {
      "needs_background": "light"
     },
     "output_type": "display_data"
    },
    {
     "name": "stdout",
     "output_type": "stream",
     "text": [
      "without Laplace smoothing P(X=b|Y):0.0\n",
      "with Laplace smoothing P(X=b|Y):0.00023713540431586437\n"
     ]
    }
   ],
   "source": [
    "\"\"\"\n",
    "For the mushroom dataset\n",
    "\"\"\"\n",
    "\n",
    "\"\"\"\n",
    "stalk-color-below-ring\n",
    "e:\tb\t0|c\t0|e\t96|g\t576|n\t64|o\t192|p\t576|w\t2704|y\t0|\n",
    "\"\"\"\n",
    "Q1_c=['b','c','e','g','n','o','p','w','y']\n",
    "N_LS=[0.0,0.0,96.0,576.0,64.0,192.0,576.0,2704.0,0.0]\n",
    "K=1\n",
    "T=sum(N_LS)\n",
    "for i in range(len(N_LS)):\n",
    "    N_LS[i]=N_LS[i]/T\n",
    "print('without Laplace smoothing')\n",
    "W=plt.bar(Q1_c,N_LS)\n",
    "plt.show(W)\n",
    "LS=[0.0,0.0,96.0,576.0,64.0,192.0,576.0,2704.0,0.0]\n",
    "T=sum(LS)\n",
    "for i in range(len(LS)):\n",
    "    LS[i]=(LS[i]+K)/(T+K*9)\n",
    "\n",
    "print('with Laplace smoothing')\n",
    "L=plt.bar(Q1_c,LS)\n",
    "plt.show(L)\n",
    "\n",
    "print('without Laplace smoothing P(X=b|Y):'+str(N_LS[0]))\n",
    "print('with Laplace smoothing P(X=b|Y):'+str(LS[0]))"
   ]
  },
  {
   "cell_type": "code",
   "execution_count": 16,
   "metadata": {},
   "outputs": [
    {
     "name": "stdout",
     "output_type": "stream",
     "text": [
      "1. μ= 4.26 and σ= 0.4651881339845204\n",
      "\n",
      "2. graph of probability density function\n"
     ]
    },
    {
     "data": {
      "image/png": "[encoded data removed]",
      "text/plain": [
       "<Figure size 432x288 with 1 Axes>"
      ]
     },
     "metadata": {
      "needs_background": "light"
     },
     "output_type": "display_data"
    }
   ],
   "source": [
    "\"\"\"\n",
    "For the iris dataset\n",
    "\"\"\"\n",
    "iris_F=iris.drop(columns='class')\n",
    "iris_L=iris['class'].replace({'Iris-setosa':0,'Iris-versicolor':1,'Iris-virginica':2})\n",
    "iris_F=np.array(iris_F,dtype=float)\n",
    "iris_L=np.array(iris_L)\n",
    "I_T=0\n",
    "PL=[]\n",
    "for i in range(len(iris_label)):\n",
    "    if iris_L[i]==1:\n",
    "        I_T=I_T+1\n",
    "        PL.append(iris_F[i][2])\n",
    "Q2_c=[]\n",
    "pl_I=[]\n",
    "for i in range(27):\n",
    "    Q2_c.append(round(2.7+i/10,1))\n",
    "    pl_I.append(0)\n",
    "\n",
    "for i in range(len(PL)):\n",
    "    index=round((PL[i]-2.7)*10,0)\n",
    "    pl_I[int(index)]=pl_I[int(index)]+1\n",
    "    \n",
    "M=sum(PL)/len(PL)\n",
    "D=sdev(PL)\n",
    "\n",
    "for i in range(len(pl_I)):\n",
    "    pl_I[i]=pl_I[i]/len(PL)\n",
    "    \n",
    "print('1. μ= '+str(M)+ ' and σ= '+str(float(D))+'\\n')\n",
    "print('2. graph of probability density function')\n",
    "plt.plot(Q2_c,pl_I)\n",
    "plt.show()"
   ]
  },
  {
   "cell_type": "code",
   "execution_count": null,
   "metadata": {},
   "outputs": [],
   "source": []
  }
 ],
 "metadata": {
  "kernelspec": {
   "display_name": "Python 3",
   "language": "python",
   "name": "python3"
  },
  "language_info": {
   "codemirror_mode": {
    "name": "ipython",
    "version": 3
   },
   "file_extension": ".py",
   "mimetype": "text/x-python",
   "name": "python",
   "nbconvert_exporter": "python",
   "pygments_lexer": "ipython3",
   "version": "3.7.6"
  }
 },
 "nbformat": 4,
 "nbformat_minor": 4
}
